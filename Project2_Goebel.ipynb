{
  "nbformat": 4,
  "nbformat_minor": 0,
  "metadata": {
    "colab": {
      "provenance": [],
      "include_colab_link": true
    },
    "kernelspec": {
      "name": "python3",
      "display_name": "Python 3"
    },
    "language_info": {
      "name": "python"
    },
    "gpuClass": "standard"
  },
  "cells": [
    {
      "cell_type": "markdown",
      "metadata": {
        "id": "view-in-github",
        "colab_type": "text"
      },
      "source": [
        "<a href=\"https://colab.research.google.com/github/j23-cs167/project-2-Tyler-Goebel/blob/main/Project2_Goebel.ipynb\" target=\"_parent\"><img src=\"https://colab.research.google.com/assets/colab-badge.svg\" alt=\"Open In Colab\"/></a>"
      ]
    },
    {
      "cell_type": "markdown",
      "source": [
        "# Project #2\n",
        "##Name: Tyler Goebel\n",
        "Proposed Points (out of 25): 25\n",
        "\n",
        "I went for full points. I double checked to be sure I did what was asked in all 5 sections. \n",
        "\n",
        "The only doubt I have is with the research and analysis. Needing to restart my project on Friday did not help timewise. It was hard to allocate huge portions of time towards the project to be in depth with the research. Because of that, maybe 1 point could be taken off in research and analysis, but I think I made enough models and analyzed them to where I can get full points."
      ],
      "metadata": {
        "id": "rIepkBIuT_Pl"
      }
    },
    {
      "cell_type": "markdown",
      "source": [
        "# 1. Problem\n",
        "State the problem you are trying to solve with this machine learning experiment. Include a description of the data, where you got the data, and what you're trying to predict.."
      ],
      "metadata": {
        "id": "HbwKLNhzP8YO"
      }
    },
    {
      "cell_type": "markdown",
      "source": [
        "I want to predict the chance that a student is admitted into grad school based off of descriptors. \n",
        "\n",
        "The data includes University ranking (out of 5), TOEFL score, GRE score, strength or statement of purpose and letter of recommendation (out of 5), undergrad Gpa (0 to 10), whether or not they did research (0 or 1), and the chance of admission\n",
        "\n",
        "Data is from the links from Project 1\n",
        "\n"
      ],
      "metadata": {
        "id": "LwseoUsMmCz2"
      }
    },
    {
      "cell_type": "markdown",
      "source": [
        "# 2. Data Preparation\n",
        "Explain your data preparation. What did you have to do to get your data in shape for your experiments? Why are you certain that you data is clean and prepared for use in your algorithms?"
      ],
      "metadata": {
        "id": "qR_foVOeQVL7"
      }
    },
    {
      "cell_type": "markdown",
      "source": [
        "I just needed to set up my target and predictor variables, and then split the data. There was no missing data, and I did not normalize the data until later in the research section."
      ],
      "metadata": {
        "id": "aMDJDnW_mOWu"
      }
    },
    {
      "cell_type": "code",
      "source": [
        "# load and prepare your data here\n",
        "from google.colab import drive\n",
        "import pandas\n",
        "from sklearn.model_selection import train_test_split\n",
        "drive.mount('/content/drive')\n",
        "path = ('/content/drive/MyDrive/CS167/datasets/admission_data.csv')\n",
        "\n",
        "data = pandas.read_csv(path)\n",
        "data.head()\n",
        "\n",
        "data.isna().any()   #no missing values\n",
        "\n",
        "target = 'Chance of Admit'\n",
        "predictors = data.columns.drop(['Chance of Admit', 'Serial No.'])\n",
        "train_data, test_data, train_sln, test_sln = train_test_split(data[predictors], data[target], test_size = 0.2, random_state=41)\n",
        "#train_data.head()\n",
        "#test_data.head()\n",
        "#train_sln.head()\n",
        "#test_sln.head()\n",
        "\n"
      ],
      "metadata": {
        "id": "9dUdBChRmKxR",
        "colab": {
          "base_uri": "https://localhost:8080/"
        },
        "outputId": "f57dc92b-4c60-4e98-87a9-474d56160a85"
      },
      "execution_count": 1,
      "outputs": [
        {
          "output_type": "stream",
          "name": "stdout",
          "text": [
            "Mounted at /content/drive\n"
          ]
        }
      ]
    },
    {
      "cell_type": "markdown",
      "source": [
        "# 3. Research\n",
        "\n",
        "Put your code and your experiments here\n",
        "\n",
        "The plan is to create a few different models and see which model makes the best predictions according to the metrics (MAE, MSE, and r-squared)"
      ],
      "metadata": {
        "id": "Hc7HMmNPR10W"
      }
    },
    {
      "cell_type": "code",
      "source": [
        "#baseline model with Dummy\n",
        "from sklearn.dummy import DummyRegressor\n",
        "from sklearn import metrics\n",
        "dummy_regr = DummyRegressor()\n",
        "dummy_regr.fit(train_data, train_sln)\n",
        "preds = dummy_regr.predict(test_data)\n",
        "print(\"Metrics\")\n",
        "print('MAE: ', metrics.mean_absolute_error(test_sln, preds))\n",
        "print('MSE: ', metrics.mean_squared_error(test_sln, preds))\n",
        "print('R2: ', metrics.r2_score(test_sln, preds))\n",
        "print(\"Prediction  \\t\\t  Actual\")\n",
        "for i in range(10):\n",
        "  print(preds[i],\"\\t\\t\", test_sln.iloc[i])\n",
        "\n",
        "# Don't use this. Ever. The error values are actually not too bad, but a negative r-squared is awful, simple as that."
      ],
      "metadata": {
        "id": "XfaACsEOR4U5",
        "colab": {
          "base_uri": "https://localhost:8080/"
        },
        "outputId": "cd23d833-4fed-4c96-bc3f-73c8fd106c40"
      },
      "execution_count": 2,
      "outputs": [
        {
          "output_type": "stream",
          "name": "stdout",
          "text": [
            "Metrics\n",
            "MAE:  0.11175000000000002\n",
            "MSE:  0.018368703125000004\n",
            "R2:  -0.0014319593565470523\n",
            "Prediction  \t\t  Actual\n",
            "0.725375 \t\t 0.79\n",
            "0.725375 \t\t 0.83\n",
            "0.725375 \t\t 0.94\n",
            "0.725375 \t\t 0.9\n",
            "0.725375 \t\t 0.82\n",
            "0.725375 \t\t 0.7\n",
            "0.725375 \t\t 0.79\n",
            "0.725375 \t\t 0.79\n",
            "0.725375 \t\t 0.76\n",
            "0.725375 \t\t 0.93\n"
          ]
        }
      ]
    },
    {
      "cell_type": "code",
      "source": [
        "from sklearn import neighbors\n",
        "#Base knn model\n",
        "neigh = neighbors.KNeighborsRegressor()\n",
        "neigh.fit(train_data, train_sln)\n",
        "predictions = neigh.predict(test_data)\n",
        "print('MSE: ', metrics.mean_squared_error(test_sln, predictions))\n",
        "print('MAE: ', metrics.mean_absolute_error(test_sln, predictions))\n",
        "print('r2: ', metrics.r2_score(test_sln, predictions))\n"
      ],
      "metadata": {
        "colab": {
          "base_uri": "https://localhost:8080/"
        },
        "id": "6EjtJ9OCLdz3",
        "outputId": "5ec1f43a-02ca-42a5-aff9-d6999f833326"
      },
      "execution_count": 3,
      "outputs": [
        {
          "output_type": "stream",
          "name": "stdout",
          "text": [
            "MSE:  0.0049572999999999996\n",
            "MAE:  0.05279999999999999\n",
            "r2:  0.7297360288129644\n"
          ]
        }
      ]
    },
    {
      "cell_type": "code",
      "source": [
        "#Let's see if it works better with a weighted knn model\n",
        "from sklearn import neighbors\n",
        "neigh2 = neighbors.KNeighborsRegressor(weights = 'distance')\n",
        "neigh2.fit(train_data, train_sln)\n",
        "predictions2 = neigh2.predict(test_data)\n",
        "print('MSE: ', metrics.mean_squared_error(test_sln, predictions2))\n",
        "print('MAE: ', metrics.mean_absolute_error(test_sln, predictions2))\n",
        "print('r2: ', metrics.r2_score(test_sln, predictions2))\n",
        "\n",
        "#slightly better in each category"
      ],
      "metadata": {
        "colab": {
          "base_uri": "https://localhost:8080/"
        },
        "id": "0R6eIBOfNCv4",
        "outputId": "46c7cd4c-5667-4c37-b70a-0666d7ca829d"
      },
      "execution_count": 4,
      "outputs": [
        {
          "output_type": "stream",
          "name": "stdout",
          "text": [
            "MSE:  0.0047092513329383984\n",
            "MAE:  0.05116401289897832\n",
            "r2:  0.7432592406031968\n"
          ]
        }
      ]
    },
    {
      "cell_type": "code",
      "source": [
        "#Let's tune k in our weighted knn model to optimize it\n",
        "import matplotlib.pyplot as plt\n",
        "%matplotlib inline\n",
        "import pandas\n",
        "from sklearn import neighbors\n",
        "\n",
        "k_vals = [11,12,13,14,15,16,17,18,19,20,21,22,23,24,25,26,27,28,29]\n",
        "\n",
        "knn_r2 = []\n",
        "\n",
        "for k in k_vals:\n",
        "  neigh = neighbors.KNeighborsRegressor(n_neighbors=k,weights='distance')\n",
        "  neigh.fit(train_data, train_sln)\n",
        "  predictions = neigh.predict(test_data)\n",
        "  current_r2 = metrics.r2_score(test_sln,predictions)\n",
        "  knn_r2.append(current_r2)\n",
        "\n",
        "plt.suptitle('Admission Chance weighted knn experiment',fontsize=20)\n",
        "plt.xlabel('k')\n",
        "plt.ylabel('r2')\n",
        "plt.plot(k_vals,knn_r2,'b^-')\n",
        "plt.legend(loc='lower left', shadow=True)\n",
        "\n",
        "# Using k-values from 10 to 200, intervals of 10, Graph peaked at k-value of 20, so this next graph will show all k-values between 10 and 30 to find optimal k\n",
        "\n",
        "\n",
        "# k=17 results in best r-squared for the weighted knn model"
      ],
      "metadata": {
        "colab": {
          "base_uri": "https://localhost:8080/",
          "height": 343
        },
        "id": "UdxwSv4wNT8-",
        "outputId": "082175cc-38aa-44e5-a409-4cf4778cab75"
      },
      "execution_count": 12,
      "outputs": [
        {
          "output_type": "stream",
          "name": "stderr",
          "text": [
            "WARNING:matplotlib.legend:No handles with labels found to put in legend.\n"
          ]
        },
        {
          "output_type": "execute_result",
          "data": {
            "text/plain": [
              "<matplotlib.legend.Legend at 0x7f71ed33ec70>"
            ]
          },
          "metadata": {},
          "execution_count": 12
        },
        {
          "output_type": "display_data",
          "data": {
            "text/plain": [
              "<Figure size 432x288 with 1 Axes>"
            ],
            "image/png": "[encoded data removed]"
          },
          "metadata": {
            "needs_background": "light"
          }
        }
      ]
    },
    {
      "cell_type": "code",
      "source": [
        "#Create a decision tree regressor as a predictive model, then visualize a smaller version of the tree\n",
        "from sklearn import tree\n",
        "print(\"Normalized Decision Tree\")\n",
        "dt = tree.DecisionTreeRegressor()\n",
        "dt.fit(train_data, train_sln)\n",
        "dt_predictions = dt.predict(test_data)\n",
        "print('MSE: ', metrics.mean_squared_error(test_sln, dt_predictions))\n",
        "print('MAE: ', metrics.mean_absolute_error(test_sln, dt_predictions))\n",
        "print('r2: ', metrics.r2_score(test_sln, dt_predictions))\n",
        "\n",
        "#not as good as knn or weighted knn models"
      ],
      "metadata": {
        "id": "t93YqYiFOk3l",
        "colab": {
          "base_uri": "https://localhost:8080/"
        },
        "outputId": "6f2a89fe-5974-46f8-e18c-4632322fb79b"
      },
      "execution_count": 6,
      "outputs": [
        {
          "output_type": "stream",
          "name": "stdout",
          "text": [
            "Normalized Decision Tree\n",
            "MSE:  0.00632375\n",
            "MAE:  0.057374999999999995\n",
            "r2:  0.6552393868045072\n"
          ]
        }
      ]
    },
    {
      "cell_type": "code",
      "source": [
        "# Here is what the decision tree looks like (using a max depth of 3 so it isn't overwhelming for my computer)\n",
        "small_dt = tree.DecisionTreeRegressor(max_depth = 3)\n",
        "small_dt.fit(train_data, train_sln)\n",
        "small_dt_predictions = small_dt.predict(test_data)\n",
        "print('r2: ', metrics.r2_score(test_sln, small_dt_predictions))\n",
        "\n",
        "import matplotlib.pyplot as plt\n",
        "\n",
        "plt.figure(figsize=(9,9))\n",
        "tree.plot_tree(small_dt);\n",
        "\n",
        "print(\"Note: r-squared value changed because max_depth parameter was implemented\")\n",
        "\n",
        "#Surprised the r-squared actually went up. I also did max_depth = 4 and that r-squared value was lower than the original decision tree r-squared."
      ],
      "metadata": {
        "colab": {
          "base_uri": "https://localhost:8080/",
          "height": 555
        },
        "id": "VH1YY4sZCCtu",
        "outputId": "70dc74b8-0210-481c-a090-b143353051e8"
      },
      "execution_count": 10,
      "outputs": [
        {
          "output_type": "stream",
          "name": "stdout",
          "text": [
            "r2:  0.6654817298549686\n",
            "Note: r-squared value changed because max_depth parameter was implemented\n"
          ]
        },
        {
          "output_type": "display_data",
          "data": {
            "text/plain": [
              "<Figure size 648x648 with 1 Axes>"
            ],
            "image/png": "[encoded data removed]"
          },
          "metadata": {
            "needs_background": "light"
          }
        }
      ]
    },
    {
      "cell_type": "code",
      "source": [
        "#Let's make an MLP\n",
        "from sklearn.neural_network import MLPRegressor\n",
        "\n",
        "mlp = MLPRegressor()\n",
        "mlp.fit(train_data,train_sln)\n",
        "mlp_predictions = mlp.predict(test_data)\n",
        "\n",
        "print('MSE: ', metrics.mean_squared_error(test_sln, mlp_predictions))\n",
        "print('MAE: ', metrics.mean_absolute_error(test_sln, mlp_predictions))\n",
        "print('r2: ', metrics.r2_score(test_sln, mlp_predictions))\n",
        "\n",
        "#Not all that different from the decision tree model"
      ],
      "metadata": {
        "colab": {
          "base_uri": "https://localhost:8080/"
        },
        "id": "4KB50pZfDLJy",
        "outputId": "b257a0e1-9e12-4de0-e6a7-85cbad11b242"
      },
      "execution_count": 11,
      "outputs": [
        {
          "output_type": "stream",
          "name": "stdout",
          "text": [
            "MSE:  0.006120654345270863\n",
            "MAE:  0.06070842549478902\n",
            "r2:  0.6663118331317273\n"
          ]
        }
      ]
    },
    {
      "cell_type": "code",
      "source": [
        "#Lastly, a random forest\n",
        "from sklearn.ensemble import RandomForestRegressor\n",
        "\n",
        "rf = RandomForestRegressor()\n",
        "rf.fit(train_data, train_sln)\n",
        "rf_predictions = rf.predict(test_data)\n",
        "\n",
        "print('MSE: ', metrics.mean_squared_error(test_sln, rf_predictions))\n",
        "print('MAE: ', metrics.mean_absolute_error(test_sln, rf_predictions))\n",
        "print('r2: ', metrics.r2_score(test_sln, rf_predictions))\n",
        "\n",
        "# I thought the random forest would be the best, that's why I did it last. "
      ],
      "metadata": {
        "colab": {
          "base_uri": "https://localhost:8080/"
        },
        "id": "jSEJnw5lFCvj",
        "outputId": "b4220a22-3b9d-4061-840e-b2af8b0cea84"
      },
      "execution_count": 17,
      "outputs": [
        {
          "output_type": "stream",
          "name": "stdout",
          "text": [
            "MSE:  0.005253526624999993\n",
            "MAE:  0.05415625000000004\n",
            "r2:  0.7135862327457845\n"
          ]
        }
      ]
    },
    {
      "cell_type": "code",
      "source": [
        "#Let's tune the number of trees in our random forest and see if our model can improve\n",
        "import matplotlib.pyplot as plt\n",
        "\n",
        "def tune_number_of_trees(n_estimator_values):\n",
        "    rf_r2 = []\n",
        "\n",
        "    for n in n_estimator_values:\n",
        "\n",
        "        curr_rf = RandomForestRegressor(n_estimators = n)\n",
        "        curr_rf.fit(train_data,train_sln)\n",
        "        curr_predictions = curr_rf.predict(test_data)\n",
        "        curr_r2 = metrics.r2_score(test_sln,curr_predictions)\n",
        "        rf_r2.append(curr_r2)\n",
        "\n",
        "\n",
        "    plt.suptitle('Random Forest r2 vs. number of trees',fontsize=18)\n",
        "    plt.xlabel('# trees')\n",
        "    plt.ylabel('r2')\n",
        "    plt.plot(n_estimator_values,rf_r2,'go-')\n",
        "    plt.figure(figsize=(25,25))\n",
        "\n",
        "    plt.show()\n",
        "    \n",
        "tune_number_of_trees(range(1,40))\n",
        "\n",
        "#For this tuning, 7 trees is the best for the random forest model. \n",
        "\n",
        "#Note: This graph is different every time I run the cell because random forests are random. The ideal number of trees will be different next time I try to tune it\n"
      ],
      "metadata": {
        "colab": {
          "base_uri": "https://localhost:8080/",
          "height": 325
        },
        "id": "b0I7R8GKJpMn",
        "outputId": "a2da24d0-dde3-432c-c19e-0a62cbc2c06d"
      },
      "execution_count": 22,
      "outputs": [
        {
          "output_type": "display_data",
          "data": {
            "text/plain": [
              "<Figure size 432x288 with 1 Axes>"
            ],
            "image/png": "[encoded data removed]"
          },
          "metadata": {
            "needs_background": "light"
          }
        },
        {
          "output_type": "display_data",
          "data": {
            "text/plain": [
              "<Figure size 1800x1800 with 0 Axes>"
            ]
          },
          "metadata": {}
        }
      ]
    },
    {
      "cell_type": "code",
      "source": [
        "#Now, I will normalize the data and re-run a new weighted knn and random forest model\n",
        "from sklearn.preprocessing import StandardScaler\n",
        "scaler = StandardScaler()\n",
        "scaler.fit(train_data)\n",
        "train_data_normalized = scaler.transform(train_data)\n",
        "test_data_normalized = scaler.transform(test_data)"
      ],
      "metadata": {
        "id": "It2nLPsnRYos"
      },
      "execution_count": 23,
      "outputs": []
    },
    {
      "cell_type": "code",
      "source": [
        "#Weighted knn model with normalized data\n",
        "from sklearn import neighbors\n",
        "neigh3 = neighbors.KNeighborsRegressor(weights = 'distance')\n",
        "neigh3.fit(train_data_normalized, train_sln)\n",
        "predictions3 = neigh3.predict(test_data_normalized)\n",
        "\n",
        "print('MSE: ', metrics.mean_squared_error(test_sln, predictions3))\n",
        "print('MAE: ', metrics.mean_absolute_error(test_sln, predictions3))\n",
        "print('r2: ', metrics.r2_score(test_sln, predictions3))\n",
        "\n",
        "#After normalizing the data, the weighted knn model improved slightly. (.015 r-squared increase)"
      ],
      "metadata": {
        "colab": {
          "base_uri": "https://localhost:8080/"
        },
        "id": "tcZspWOPR0e9",
        "outputId": "25edd3b3-a8f3-454e-8d40-c816af23c84a"
      },
      "execution_count": 24,
      "outputs": [
        {
          "output_type": "stream",
          "name": "stdout",
          "text": [
            "MSE:  0.004429921113951012\n",
            "MAE:  0.04982767027496007\n",
            "r2:  0.7584878719662524\n"
          ]
        }
      ]
    },
    {
      "cell_type": "code",
      "source": [
        "#Tune the weighted knn model again to find the best metrics\n",
        "import matplotlib.pyplot as plt\n",
        "%matplotlib inline\n",
        "import pandas\n",
        "from sklearn import neighbors\n",
        "\n",
        "k_vals = [10,11,12,13,14,15,16,17,18,19,20,21,22,23,24,25,26,27,28,29]\n",
        "\n",
        "knn_r2 = []\n",
        "\n",
        "for k in k_vals:\n",
        "  neigh = neighbors.KNeighborsRegressor(n_neighbors=k,weights='distance')\n",
        "  neigh.fit(train_data_normalized, train_sln)\n",
        "  predictions = neigh.predict(test_data_normalized)\n",
        "  current_r2 = metrics.r2_score(test_sln,predictions)\n",
        "  knn_r2.append(current_r2)\n",
        "\n",
        "plt.suptitle('Admission Chance weighted knn Experiment (2)',fontsize=20)\n",
        "plt.xlabel('k')\n",
        "plt.ylabel('r2')\n",
        "plt.plot(k_vals,knn_r2,'b^-')\n",
        "plt.legend(loc='lower left', shadow=True)\n",
        "\n",
        "#Our weighted knn model with normalized data using a k value of 26 provides the best r-squared. It is only slightly better than using the base model though."
      ],
      "metadata": {
        "colab": {
          "base_uri": "https://localhost:8080/",
          "height": 343
        },
        "id": "7os422d-Trmc",
        "outputId": "2c5329c4-117c-4924-f669-419fce1e8370"
      },
      "execution_count": 25,
      "outputs": [
        {
          "output_type": "stream",
          "name": "stderr",
          "text": [
            "WARNING:matplotlib.legend:No handles with labels found to put in legend.\n"
          ]
        },
        {
          "output_type": "execute_result",
          "data": {
            "text/plain": [
              "<matplotlib.legend.Legend at 0x7f71ed379640>"
            ]
          },
          "metadata": {},
          "execution_count": 25
        },
        {
          "output_type": "display_data",
          "data": {
            "text/plain": [
              "<Figure size 432x288 with 1 Axes>"
            ],
            "image/png": "[encoded data removed]"
          },
          "metadata": {
            "needs_background": "light"
          }
        }
      ]
    },
    {
      "cell_type": "code",
      "source": [
        "rf2 = RandomForestRegressor()\n",
        "rf2.fit(train_data_normalized, train_sln)\n",
        "rf_predictions2 = rf2.predict(test_data_normalized)\n",
        "\n",
        "print('MSE: ', metrics.mean_squared_error(test_sln, rf_predictions2))\n",
        "print('MAE: ', metrics.mean_absolute_error(test_sln, rf_predictions2))\n",
        "print('r2: ', metrics.r2_score(test_sln, rf_predictions2))\n",
        "\n",
        "# Again only slightly improved the random forest model with normalized data"
      ],
      "metadata": {
        "colab": {
          "base_uri": "https://localhost:8080/"
        },
        "id": "2snd6V2IUd5_",
        "outputId": "613470c3-8b11-4850-bdee-63efa85d2077"
      },
      "execution_count": 26,
      "outputs": [
        {
          "output_type": "stream",
          "name": "stdout",
          "text": [
            "MSE:  0.0051069144999999995\n",
            "MAE:  0.053625000000000055\n",
            "r2:  0.7215792884669772\n"
          ]
        }
      ]
    },
    {
      "cell_type": "markdown",
      "source": [
        "#4. Analysis\n",
        "\n",
        "What did you discover? What insights/recommendations do you have? What did you find that was interesting? Which model was your best model, which models didn't work well? Why do you think this is? In general, I want a discussion of your experiment, the results, and what they mean."
      ],
      "metadata": {
        "id": "2Qu9bYPLmiv_"
      }
    },
    {
      "cell_type": "markdown",
      "source": [
        "1. The weighted knn model performed the best. If my logic is correct here, I think the weighted knn model performed well because the nearest neighbors would likely have similar acceptance rates. The closest points on a nearest neighbors graph would have similar scores, letter strengths, and gpa's. Acceptance to Universities have lots to do with those exact requirements, therefore predicting acceptance based on similar scores would make the predicitions pretty accurate. I hope I was able to capture all og my thinking with that. \n",
        "2. With what we have done in class before, I was surprised that the random forest did not have the best metrics. For the first project, assignments, and in-class exercises, the random forest almost seemed to provide the best predictions. Then, the MLP and decision tree were the worst performing models. I say worst, but the were not far worse than the other models, they were just not quite as good at predicting. \n",
        "3. Another surprise was that normalizing the data did not affect the models that much. There may have been larger increases in the knn and decision tree if I had tested those models with normalized data.\n",
        "4. There is some differences in the data (differences in numbers, hundreds and single digits), but the normalized data did not improve the models too much. I think since the numbers aren't too big, that not normalizing the data is okay for this project.\n",
        "5. For a recommendation, tuning more parameters in the models with normalized data would be helpful. This would allow for predictions to be the most accurate/have the least error."
      ],
      "metadata": {
        "id": "k17sKBZUmqIH"
      }
    },
    {
      "cell_type": "markdown",
      "source": [
        "# 5. Bumps in the Road\n",
        "What challenges did you encounter? How did you overcome these challenges?"
      ],
      "metadata": {
        "id": "TemAuKxlm6dQ"
      }
    },
    {
      "cell_type": "markdown",
      "source": [
        "These models all went pretty smoothly. My challenges were with my first dataset I tried using. I had a dataset from kaggle and tried predicting the price of used cars. The data in the excel sheet was listed weird in some way. not sure what. I tried cleaning the data in both colab and the excel sheet (with your help Professor Moore), but it just didn't want to work. I ended up choosing a different dataset and restaring. I may have went deeper with tuning some of the models if I had more time to work on the project, but after restarting, it was hard to go super in depth."
      ],
      "metadata": {
        "id": "zXEVEG9FnHgQ"
      }
    }
  ]
}